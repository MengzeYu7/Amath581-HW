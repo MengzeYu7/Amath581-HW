{
 "cells": [
  {
   "cell_type": "code",
   "execution_count": 89,
   "id": "6be8df09",
   "metadata": {},
   "outputs": [],
   "source": [
    "import numpy as np\n",
    "\n",
    "def f(x):\n",
    "    return x * np.sin(3 * x) - np.exp(x)\n",
    "\n",
    "def df(x):\n",
    "    return np.sin(3 * x) + 3 * x * np.cos(3 * x) - np.exp(x)"
   ]
  },
  {
   "cell_type": "code",
   "execution_count": 90,
   "id": "1c75606d",
   "metadata": {},
   "outputs": [],
   "source": [
    "def N_F_method(x0):\n",
    "    max_step = 100\n",
    "    accuracy = 10**(-6)\n",
    "    X = [x0]\n",
    "    for i in range(0, max_step):\n",
    "        fx = f(x0)\n",
    "        dfx = df(x0)\n",
    "        if abs(fx) < accuracy:\n",
    "            break\n",
    "        delta_x = - fx / dfx\n",
    "        x0 = x0 + delta_x\n",
    "        X.append(x0)\n",
    "    return np.array(X), i+1  \n",
    "\n",
    "def bisection_method(a, b):\n",
    "    max_step = 100\n",
    "    accuracy = 10**(-6)\n",
    "    Mid = []\n",
    "    for i in range(max_step):\n",
    "        mid = (a + b) / 2\n",
    "        Mid.append(mid)\n",
    "        if abs(f(mid)) < accuracy or (b - a) / 2 < accuracy:\n",
    "            break\n",
    "        if f(a) * f(mid) < 0:\n",
    "            b = mid\n",
    "        else:\n",
    "            a = mid\n",
    "    return np.array(Mid), i+1"
   ]
  },
  {
   "cell_type": "code",
   "execution_count": 91,
   "id": "4c73096a",
   "metadata": {},
   "outputs": [],
   "source": [
    "X_N_F, iterations_N_F = N_F_method(-1.6)\n",
    "A1 = X_N_F\n",
    "np.save('A1.npy', X_N_F)"
   ]
  },
  {
   "cell_type": "code",
   "execution_count": 92,
   "id": "349aca14",
   "metadata": {},
   "outputs": [],
   "source": [
    "Mid_bisection, iterations_bisection = bisection_method(-0.7, -0.4)\n",
    "A2 = Mid_bisection\n",
    "np.save('A2.npy', Mid_bisection)"
   ]
  },
  {
   "cell_type": "code",
   "execution_count": 93,
   "id": "e99f0ba1",
   "metadata": {},
   "outputs": [],
   "source": [
    "combined_iterations = np.array([iterations_N_F, iterations_bisection])\n",
    "A3 = combined_iterations\n",
    "np.save('A3.npy', combined_iterations)"
   ]
  },
  {
   "cell_type": "code",
   "execution_count": 94,
   "id": "dd41b12a",
   "metadata": {},
   "outputs": [],
   "source": [
    "A = np.array([[1, 2], [-1, 1]])\n",
    "B = np.array([[2, 0], [0, 2]])\n",
    "C = np.array([[2, 0, -3], [0, 0, -1]]) \n",
    "D = np.array([[1, 2], [2, 3], [-1, 0]])\n",
    "x = np.array([[1], [0]])\n",
    "y = np.array([[0], [1]])\n",
    "z = np.array([[1], [2], [-1]])"
   ]
  },
  {
   "cell_type": "code",
   "execution_count": 95,
   "id": "b81275ff",
   "metadata": {},
   "outputs": [],
   "source": [
    "A4 = A + B\n",
    "np.save('A4.npy', A4)"
   ]
  },
  {
   "cell_type": "code",
   "execution_count": 96,
   "id": "ed3041fd",
   "metadata": {},
   "outputs": [],
   "source": [
    "A5 = 3 * x - 4 * y\n",
    "np.save('A5.npy', A5)"
   ]
  },
  {
   "cell_type": "code",
   "execution_count": 97,
   "id": "183d1322",
   "metadata": {},
   "outputs": [],
   "source": [
    "A6 = np.dot(A, x)\n",
    "np.save('A6.npy', A6)"
   ]
  },
  {
   "cell_type": "code",
   "execution_count": 98,
   "id": "d8d1a8ae",
   "metadata": {},
   "outputs": [],
   "source": [
    "A7 = np.dot(B, (x - y))\n",
    "np.save('A7.npy', A7)"
   ]
  },
  {
   "cell_type": "code",
   "execution_count": 99,
   "id": "8a97cbe5",
   "metadata": {},
   "outputs": [],
   "source": [
    "A8 = np.dot(D, x)\n",
    "np.save('A8.npy', A8)"
   ]
  },
  {
   "cell_type": "code",
   "execution_count": 100,
   "id": "35ebe6ba",
   "metadata": {},
   "outputs": [],
   "source": [
    "A9 = np.dot(D, y) + z\n",
    "np.save('A9.npy', A9)"
   ]
  },
  {
   "cell_type": "code",
   "execution_count": 101,
   "id": "990a4134",
   "metadata": {},
   "outputs": [],
   "source": [
    "A10 = np.dot(A, B)\n",
    "np.save('A10.npy', A10)"
   ]
  },
  {
   "cell_type": "code",
   "execution_count": 102,
   "id": "62380eb0",
   "metadata": {},
   "outputs": [],
   "source": [
    "A11 = np.dot(B, C)\n",
    "np.save('A11.npy', A11)"
   ]
  },
  {
   "cell_type": "code",
   "execution_count": 103,
   "id": "a9f7493e",
   "metadata": {},
   "outputs": [],
   "source": [
    "A12 = np.dot(C, D)\n",
    "np.save('A12.npy', A12)"
   ]
  }
 ],
 "metadata": {
  "kernelspec": {
   "display_name": "pytorch",
   "language": "python",
   "name": "jpytorch"
  },
  "language_info": {
   "codemirror_mode": {
    "name": "ipython",
    "version": 3
   },
   "file_extension": ".py",
   "mimetype": "text/x-python",
   "name": "python",
   "nbconvert_exporter": "python",
   "pygments_lexer": "ipython3",
   "version": "3.11.5"
  }
 },
 "nbformat": 4,
 "nbformat_minor": 5
}
